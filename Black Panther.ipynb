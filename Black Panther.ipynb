{
 "cells": [
  {
   "cell_type": "markdown",
   "id": "96da3c49",
   "metadata": {},
   "source": [
    "# Black Panther 18: An Analysis of Twitter's Perception"
   ]
  },
  {
   "cell_type": "markdown",
   "id": "be125b99",
   "metadata": {},
   "source": [
    "# 1. Introduction"
   ]
  },
  {
   "cell_type": "markdown",
   "id": "086e5c2a",
   "metadata": {},
   "source": [
    "In this Data analytics Project, I downloaded Black Panther 18 dataset from kaggle and then performed a sentiment analysis on the data using the VaderSentiment library in Python."
   ]
  },
  {
   "cell_type": "markdown",
   "id": "a3172f83",
   "metadata": {},
   "source": [
    "# Contents\n",
    "1. Introduction\n",
    "2. Data source\n",
    "3. Data Preprocessing\n",
    "4. Sentiment Analysis\n",
    "5. Conclusion"
   ]
  },
  {
   "cell_type": "markdown",
   "id": "7f3b0386",
   "metadata": {},
   "source": [
    "# 2. Data Source"
   ]
  },
  {
   "cell_type": "markdown",
   "id": "af1ae0e7",
   "metadata": {},
   "source": [
    " I downloaded black panther 18 dataset from kaggle"
   ]
  },
  {
   "cell_type": "code",
   "execution_count": 2,
   "id": "7d7de9eb",
   "metadata": {},
   "outputs": [
    {
     "name": "stderr",
     "output_type": "stream",
     "text": [
      "Since the GPL-licensed package `unidecode` is not installed, using Python's `unicodedata` package which yields worse results.\n"
     ]
    }
   ],
   "source": [
    "#importing liberies\n",
    "import pandas as pd\n",
    "import numpy as np\n",
    "import regex as re\n",
    "import cleantext\n",
    "import string\n",
    "from vaderSentiment.vaderSentiment import SentimentIntensityAnalyzer\n",
    "import nltk\n",
    "from nltk.stem import WordNetLemmatizer\n",
    "from nltk.corpus import stopwords\n",
    "from cleantext import clean\n",
    "from nltk.sentiment.vader import SentimentIntensityAnalyzer\n",
    "import warnings \n",
    "from collections import Counter\n"
   ]
  },
  {
   "cell_type": "code",
   "execution_count": 3,
   "id": "b3260b0f",
   "metadata": {},
   "outputs": [],
   "source": [
    "#importing data frame\n",
    "DataFrame=pd.read_csv(\"Black Panther.csv\", encoding='latin1')"
   ]
  },
  {
   "cell_type": "code",
   "execution_count": 4,
   "id": "3fdd3a36",
   "metadata": {},
   "outputs": [],
   "source": [
    "#selecting tweets in english only\n",
    "df1=DataFrame[DataFrame['Language']=='en']"
   ]
  },
  {
   "cell_type": "code",
   "execution_count": 5,
   "id": "2cb79d52",
   "metadata": {},
   "outputs": [
    {
     "data": {
      "text/plain": [
       "19892"
      ]
     },
     "execution_count": 5,
     "metadata": {},
     "output_type": "execute_result"
    }
   ],
   "source": [
    "#droping duplicates and null values\n",
    "df1.duplicated(subset='User_name').sum()"
   ]
  },
  {
   "cell_type": "code",
   "execution_count": 6,
   "id": "f340b63d",
   "metadata": {},
   "outputs": [],
   "source": [
    "df=df1.drop_duplicates()"
   ]
  },
  {
   "cell_type": "code",
   "execution_count": 7,
   "id": "6b1f2be0",
   "metadata": {},
   "outputs": [
    {
     "data": {
      "text/plain": [
       "(49298, 5)"
      ]
     },
     "execution_count": 7,
     "metadata": {},
     "output_type": "execute_result"
    }
   ],
   "source": [
    "#Inspect Dataframe\n",
    "df.shape"
   ]
  },
  {
   "cell_type": "code",
   "execution_count": 8,
   "id": "79d46258",
   "metadata": {},
   "outputs": [
    {
     "name": "stdout",
     "output_type": "stream",
     "text": [
      "<class 'pandas.core.frame.DataFrame'>\n",
      "Int64Index: 49298 entries, 0 to 57116\n",
      "Data columns (total 5 columns):\n",
      " #   Column     Non-Null Count  Dtype \n",
      "---  ------     --------------  ----- \n",
      " 0   Tweets     49298 non-null  object\n",
      " 1   User_name  49298 non-null  object\n",
      " 2   Language   49298 non-null  object\n",
      " 3   Location   34997 non-null  object\n",
      " 4   Time       49298 non-null  object\n",
      "dtypes: object(5)\n",
      "memory usage: 2.3+ MB\n"
     ]
    }
   ],
   "source": [
    "df.info()"
   ]
  },
  {
   "cell_type": "markdown",
   "id": "6ca88a2d",
   "metadata": {},
   "source": [
    "# 3. Data Preprocessing"
   ]
  },
  {
   "cell_type": "code",
   "execution_count": 9,
   "id": "30a29932",
   "metadata": {},
   "outputs": [
    {
     "name": "stderr",
     "output_type": "stream",
     "text": [
      "C:\\Users\\user\\AppData\\Local\\Temp\\ipykernel_9424\\3078119510.py:2: SettingWithCopyWarning: \n",
      "A value is trying to be set on a copy of a slice from a DataFrame.\n",
      "Try using .loc[row_indexer,col_indexer] = value instead\n",
      "\n",
      "See the caveats in the documentation: https://pandas.pydata.org/pandas-docs/stable/user_guide/indexing.html#returning-a-view-versus-a-copy\n",
      "  df['Location']=df['Location'].fillna('No location')\n"
     ]
    }
   ],
   "source": [
    "#filling null values in the location column\n",
    "df['Location']=df['Location'].fillna('No location')"
   ]
  },
  {
   "cell_type": "code",
   "execution_count": 10,
   "id": "4e600e9b",
   "metadata": {},
   "outputs": [
    {
     "name": "stderr",
     "output_type": "stream",
     "text": [
      "C:\\Users\\user\\AppData\\Local\\Temp\\ipykernel_9424\\21817487.py:7: SettingWithCopyWarning: \n",
      "A value is trying to be set on a copy of a slice from a DataFrame.\n",
      "Try using .loc[row_indexer,col_indexer] = value instead\n",
      "\n",
      "See the caveats in the documentation: https://pandas.pydata.org/pandas-docs/stable/user_guide/indexing.html#returning-a-view-versus-a-copy\n",
      "  df['Hashtags'] = df['Tweets'].apply(getHashtags)\n"
     ]
    },
    {
     "data": {
      "text/html": [
       "<div>\n",
       "<style scoped>\n",
       "    .dataframe tbody tr th:only-of-type {\n",
       "        vertical-align: middle;\n",
       "    }\n",
       "\n",
       "    .dataframe tbody tr th {\n",
       "        vertical-align: top;\n",
       "    }\n",
       "\n",
       "    .dataframe thead th {\n",
       "        text-align: right;\n",
       "    }\n",
       "</style>\n",
       "<table border=\"1\" class=\"dataframe\">\n",
       "  <thead>\n",
       "    <tr style=\"text-align: right;\">\n",
       "      <th></th>\n",
       "      <th>Tweets</th>\n",
       "      <th>User_name</th>\n",
       "      <th>Language</th>\n",
       "      <th>Location</th>\n",
       "      <th>Time</th>\n",
       "      <th>Hashtags</th>\n",
       "    </tr>\n",
       "  </thead>\n",
       "  <tbody>\n",
       "    <tr>\n",
       "      <th>0</th>\n",
       "      <td>RT @CoachWilmore: #120: William OÕNeal and the...</td>\n",
       "      <td>SusieNattibree</td>\n",
       "      <td>en</td>\n",
       "      <td>No location</td>\n",
       "      <td>Sun Mar 04 10:28:35 +0000 2018</td>\n",
       "      <td>#120</td>\n",
       "    </tr>\n",
       "    <tr>\n",
       "      <th>1</th>\n",
       "      <td>RT @soprettyinlou: I hope my girl Shuri can br...</td>\n",
       "      <td>zinedine_7x</td>\n",
       "      <td>en</td>\n",
       "      <td>P</td>\n",
       "      <td>Sun Mar 04 10:28:35 +0000 2018</td>\n",
       "      <td></td>\n",
       "    </tr>\n",
       "    <tr>\n",
       "      <th>2</th>\n",
       "      <td>RT @PollsNig: Ok guys get in here, who do you ...</td>\n",
       "      <td>edxxtrock</td>\n",
       "      <td>en</td>\n",
       "      <td>Toulouse, France</td>\n",
       "      <td>Sun Mar 04 10:28:35 +0000 2018</td>\n",
       "      <td></td>\n",
       "    </tr>\n",
       "    <tr>\n",
       "      <th>3</th>\n",
       "      <td>the thing is... black panther was so so good b...</td>\n",
       "      <td>zekejaegers</td>\n",
       "      <td>en</td>\n",
       "      <td>No location</td>\n",
       "      <td>Sun Mar 04 10:28:36 +0000 2018</td>\n",
       "      <td></td>\n",
       "    </tr>\n",
       "    <tr>\n",
       "      <th>4</th>\n",
       "      <td>RT @HillaryClinton: Saw Black Panther with Bil...</td>\n",
       "      <td>quirion77</td>\n",
       "      <td>en</td>\n",
       "      <td>Loire-Atlantique, Pays de la Loire</td>\n",
       "      <td>Sun Mar 04 10:28:36 +0000 2018</td>\n",
       "      <td></td>\n",
       "    </tr>\n",
       "  </tbody>\n",
       "</table>\n",
       "</div>"
      ],
      "text/plain": [
       "                                              Tweets       User_name Language  \\\n",
       "0  RT @CoachWilmore: #120: William OÕNeal and the...  SusieNattibree       en   \n",
       "1  RT @soprettyinlou: I hope my girl Shuri can br...     zinedine_7x       en   \n",
       "2  RT @PollsNig: Ok guys get in here, who do you ...       edxxtrock       en   \n",
       "3  the thing is... black panther was so so good b...     zekejaegers       en   \n",
       "4  RT @HillaryClinton: Saw Black Panther with Bil...       quirion77       en   \n",
       "\n",
       "                             Location                            Time Hashtags  \n",
       "0                         No location  Sun Mar 04 10:28:35 +0000 2018     #120  \n",
       "1                                   P  Sun Mar 04 10:28:35 +0000 2018           \n",
       "2                    Toulouse, France  Sun Mar 04 10:28:35 +0000 2018           \n",
       "3                         No location  Sun Mar 04 10:28:36 +0000 2018           \n",
       "4  Loire-Atlantique, Pays de la Loire  Sun Mar 04 10:28:36 +0000 2018           "
      ]
     },
     "execution_count": 10,
     "metadata": {},
     "output_type": "execute_result"
    }
   ],
   "source": [
    "# Define function to extract hashtags and remove # with REGEX\n",
    "def getHashtags(tweet):\n",
    "    tweet = tweet.lower()  \n",
    "    tweet = re.findall(r'\\#\\w+',tweet) \n",
    "    return \" \".join(tweet)\n",
    "\n",
    "df['Hashtags'] = df['Tweets'].apply(getHashtags)\n",
    "df.head()"
   ]
  },
  {
   "cell_type": "code",
   "execution_count": 11,
   "id": "8f6eaf2d",
   "metadata": {},
   "outputs": [],
   "source": [
    "hashtags_list = df['Hashtags'].tolist()\n",
    "\n",
    "# Iterate over all hashtags and split where there is more than one hashtag\n",
    "hashtags = []\n",
    "for item in hashtags_list:\n",
    "    item = item.split()\n",
    "    for i in item:\n",
    "        hashtags.append(i)\n",
    "\n",
    "# Determine Unique count of all hashtags used\n",
    "counts = Counter(hashtags)\n",
    "hashtags_df = pd.DataFrame.from_dict(counts, orient='index').reset_index()\n",
    "hashtags_df.columns = ['Hashtags', 'Count']\n",
    "hashtags_df.sort_values(by='Count', ascending=False, inplace=True)"
   ]
  },
  {
   "cell_type": "code",
   "execution_count": 12,
   "id": "09f9836e",
   "metadata": {},
   "outputs": [
    {
     "data": {
      "text/html": [
       "<div>\n",
       "<style scoped>\n",
       "    .dataframe tbody tr th:only-of-type {\n",
       "        vertical-align: middle;\n",
       "    }\n",
       "\n",
       "    .dataframe tbody tr th {\n",
       "        vertical-align: top;\n",
       "    }\n",
       "\n",
       "    .dataframe thead th {\n",
       "        text-align: right;\n",
       "    }\n",
       "</style>\n",
       "<table border=\"1\" class=\"dataframe\">\n",
       "  <thead>\n",
       "    <tr style=\"text-align: right;\">\n",
       "      <th></th>\n",
       "      <th>Hashtags</th>\n",
       "      <th>Count</th>\n",
       "    </tr>\n",
       "  </thead>\n",
       "  <tbody>\n",
       "    <tr>\n",
       "      <th>19</th>\n",
       "      <td>#blackpanther</td>\n",
       "      <td>1462</td>\n",
       "    </tr>\n",
       "    <tr>\n",
       "      <th>4</th>\n",
       "      <td>#wakanda</td>\n",
       "      <td>492</td>\n",
       "    </tr>\n",
       "    <tr>\n",
       "      <th>34</th>\n",
       "      <td>#wakandaforever</td>\n",
       "      <td>290</td>\n",
       "    </tr>\n",
       "    <tr>\n",
       "      <th>41</th>\n",
       "      <td>#triggeraliberalin4words</td>\n",
       "      <td>204</td>\n",
       "    </tr>\n",
       "    <tr>\n",
       "      <th>10</th>\n",
       "      <td>#fortnite</td>\n",
       "      <td>174</td>\n",
       "    </tr>\n",
       "    <tr>\n",
       "      <th>11</th>\n",
       "      <td>#iheartawards</td>\n",
       "      <td>147</td>\n",
       "    </tr>\n",
       "    <tr>\n",
       "      <th>21</th>\n",
       "      <td>#sundaytoday</td>\n",
       "      <td>139</td>\n",
       "    </tr>\n",
       "    <tr>\n",
       "      <th>13</th>\n",
       "      <td>#exol</td>\n",
       "      <td>119</td>\n",
       "    </tr>\n",
       "    <tr>\n",
       "      <th>50</th>\n",
       "      <td>#triggeraconservativein2words</td>\n",
       "      <td>118</td>\n",
       "    </tr>\n",
       "    <tr>\n",
       "      <th>12</th>\n",
       "      <td>#bestfanarmy</td>\n",
       "      <td>116</td>\n",
       "    </tr>\n",
       "  </tbody>\n",
       "</table>\n",
       "</div>"
      ],
      "text/plain": [
       "                         Hashtags  Count\n",
       "19                  #blackpanther   1462\n",
       "4                        #wakanda    492\n",
       "34                #wakandaforever    290\n",
       "41       #triggeraliberalin4words    204\n",
       "10                      #fortnite    174\n",
       "11                  #iheartawards    147\n",
       "21                   #sundaytoday    139\n",
       "13                          #exol    119\n",
       "50  #triggeraconservativein2words    118\n",
       "12                   #bestfanarmy    116"
      ]
     },
     "execution_count": 12,
     "metadata": {},
     "output_type": "execute_result"
    }
   ],
   "source": [
    "hashtags_df.head(10)"
   ]
  },
  {
   "cell_type": "code",
   "execution_count": 13,
   "id": "de548176",
   "metadata": {},
   "outputs": [],
   "source": [
    "casts=[\"black panther\",\"eric killmonger\",\"okoye\",\"nakia\",\"shuri\",\"m'baku\",\"ramonda\",\"zuri\"]"
   ]
  },
  {
   "cell_type": "code",
   "execution_count": 14,
   "id": "3a86a3bf",
   "metadata": {},
   "outputs": [],
   "source": [
    "# Define function to extract the casts from each Tweet\n",
    "def get_cast(tweet):\n",
    "    tweet = tweet.lower() \n",
    "    tweet_tokens = nltk.word_tokenize(tweet)\n",
    "    cast = [char for char in tweet_tokens if char in casts] \n",
    "    return \" \".join(cast)"
   ]
  },
  {
   "cell_type": "code",
   "execution_count": 15,
   "id": "487793cf",
   "metadata": {},
   "outputs": [
    {
     "name": "stderr",
     "output_type": "stream",
     "text": [
      "C:\\Users\\user\\AppData\\Local\\Temp\\ipykernel_9424\\4216208824.py:2: SettingWithCopyWarning: \n",
      "A value is trying to be set on a copy of a slice from a DataFrame.\n",
      "Try using .loc[row_indexer,col_indexer] = value instead\n",
      "\n",
      "See the caveats in the documentation: https://pandas.pydata.org/pandas-docs/stable/user_guide/indexing.html#returning-a-view-versus-a-copy\n",
      "  df['cast'] = df['Tweets'].apply(get_cast)\n"
     ]
    },
    {
     "data": {
      "text/html": [
       "<div>\n",
       "<style scoped>\n",
       "    .dataframe tbody tr th:only-of-type {\n",
       "        vertical-align: middle;\n",
       "    }\n",
       "\n",
       "    .dataframe tbody tr th {\n",
       "        vertical-align: top;\n",
       "    }\n",
       "\n",
       "    .dataframe thead th {\n",
       "        text-align: right;\n",
       "    }\n",
       "</style>\n",
       "<table border=\"1\" class=\"dataframe\">\n",
       "  <thead>\n",
       "    <tr style=\"text-align: right;\">\n",
       "      <th></th>\n",
       "      <th>Tweets</th>\n",
       "      <th>User_name</th>\n",
       "      <th>Language</th>\n",
       "      <th>Location</th>\n",
       "      <th>Time</th>\n",
       "      <th>Hashtags</th>\n",
       "      <th>cast</th>\n",
       "    </tr>\n",
       "  </thead>\n",
       "  <tbody>\n",
       "    <tr>\n",
       "      <th>0</th>\n",
       "      <td>RT @CoachWilmore: #120: William OÕNeal and the...</td>\n",
       "      <td>SusieNattibree</td>\n",
       "      <td>en</td>\n",
       "      <td>No location</td>\n",
       "      <td>Sun Mar 04 10:28:35 +0000 2018</td>\n",
       "      <td>#120</td>\n",
       "      <td></td>\n",
       "    </tr>\n",
       "    <tr>\n",
       "      <th>1</th>\n",
       "      <td>RT @soprettyinlou: I hope my girl Shuri can br...</td>\n",
       "      <td>zinedine_7x</td>\n",
       "      <td>en</td>\n",
       "      <td>P</td>\n",
       "      <td>Sun Mar 04 10:28:35 +0000 2018</td>\n",
       "      <td></td>\n",
       "      <td>shuri</td>\n",
       "    </tr>\n",
       "    <tr>\n",
       "      <th>2</th>\n",
       "      <td>RT @PollsNig: Ok guys get in here, who do you ...</td>\n",
       "      <td>edxxtrock</td>\n",
       "      <td>en</td>\n",
       "      <td>Toulouse, France</td>\n",
       "      <td>Sun Mar 04 10:28:35 +0000 2018</td>\n",
       "      <td></td>\n",
       "      <td>okoye</td>\n",
       "    </tr>\n",
       "    <tr>\n",
       "      <th>3</th>\n",
       "      <td>the thing is... black panther was so so good b...</td>\n",
       "      <td>zekejaegers</td>\n",
       "      <td>en</td>\n",
       "      <td>No location</td>\n",
       "      <td>Sun Mar 04 10:28:36 +0000 2018</td>\n",
       "      <td></td>\n",
       "      <td></td>\n",
       "    </tr>\n",
       "    <tr>\n",
       "      <th>4</th>\n",
       "      <td>RT @HillaryClinton: Saw Black Panther with Bil...</td>\n",
       "      <td>quirion77</td>\n",
       "      <td>en</td>\n",
       "      <td>Loire-Atlantique, Pays de la Loire</td>\n",
       "      <td>Sun Mar 04 10:28:36 +0000 2018</td>\n",
       "      <td></td>\n",
       "      <td></td>\n",
       "    </tr>\n",
       "  </tbody>\n",
       "</table>\n",
       "</div>"
      ],
      "text/plain": [
       "                                              Tweets       User_name Language  \\\n",
       "0  RT @CoachWilmore: #120: William OÕNeal and the...  SusieNattibree       en   \n",
       "1  RT @soprettyinlou: I hope my girl Shuri can br...     zinedine_7x       en   \n",
       "2  RT @PollsNig: Ok guys get in here, who do you ...       edxxtrock       en   \n",
       "3  the thing is... black panther was so so good b...     zekejaegers       en   \n",
       "4  RT @HillaryClinton: Saw Black Panther with Bil...       quirion77       en   \n",
       "\n",
       "                             Location                            Time  \\\n",
       "0                         No location  Sun Mar 04 10:28:35 +0000 2018   \n",
       "1                                   P  Sun Mar 04 10:28:35 +0000 2018   \n",
       "2                    Toulouse, France  Sun Mar 04 10:28:35 +0000 2018   \n",
       "3                         No location  Sun Mar 04 10:28:36 +0000 2018   \n",
       "4  Loire-Atlantique, Pays de la Loire  Sun Mar 04 10:28:36 +0000 2018   \n",
       "\n",
       "  Hashtags   cast  \n",
       "0     #120         \n",
       "1           shuri  \n",
       "2           okoye  \n",
       "3                  \n",
       "4                  "
      ]
     },
     "execution_count": 15,
     "metadata": {},
     "output_type": "execute_result"
    }
   ],
   "source": [
    "# Extract casts to a new column\n",
    "df['cast'] = df['Tweets'].apply(get_cast)\n",
    "df.head()"
   ]
  },
  {
   "cell_type": "code",
   "execution_count": 16,
   "id": "52b5bc2a",
   "metadata": {},
   "outputs": [
    {
     "name": "stderr",
     "output_type": "stream",
     "text": [
      "C:\\Users\\user\\AppData\\Local\\Temp\\ipykernel_9424\\2922663678.py:7: SettingWithCopyWarning: \n",
      "A value is trying to be set on a copy of a slice from a DataFrame.\n",
      "Try using .loc[row_indexer,col_indexer] = value instead\n",
      "\n",
      "See the caveats in the documentation: https://pandas.pydata.org/pandas-docs/stable/user_guide/indexing.html#returning-a-view-versus-a-copy\n",
      "  df['cast'] = df['cast'].apply(castNames)\n"
     ]
    },
    {
     "data": {
      "text/html": [
       "<div>\n",
       "<style scoped>\n",
       "    .dataframe tbody tr th:only-of-type {\n",
       "        vertical-align: middle;\n",
       "    }\n",
       "\n",
       "    .dataframe tbody tr th {\n",
       "        vertical-align: top;\n",
       "    }\n",
       "\n",
       "    .dataframe thead th {\n",
       "        text-align: right;\n",
       "    }\n",
       "</style>\n",
       "<table border=\"1\" class=\"dataframe\">\n",
       "  <thead>\n",
       "    <tr style=\"text-align: right;\">\n",
       "      <th></th>\n",
       "      <th>Tweets</th>\n",
       "      <th>User_name</th>\n",
       "      <th>Language</th>\n",
       "      <th>Location</th>\n",
       "      <th>Time</th>\n",
       "      <th>Hashtags</th>\n",
       "      <th>cast</th>\n",
       "    </tr>\n",
       "  </thead>\n",
       "  <tbody>\n",
       "    <tr>\n",
       "      <th>0</th>\n",
       "      <td>RT @CoachWilmore: #120: William OÕNeal and the...</td>\n",
       "      <td>SusieNattibree</td>\n",
       "      <td>en</td>\n",
       "      <td>No location</td>\n",
       "      <td>Sun Mar 04 10:28:35 +0000 2018</td>\n",
       "      <td>#120</td>\n",
       "      <td></td>\n",
       "    </tr>\n",
       "    <tr>\n",
       "      <th>1</th>\n",
       "      <td>RT @soprettyinlou: I hope my girl Shuri can br...</td>\n",
       "      <td>zinedine_7x</td>\n",
       "      <td>en</td>\n",
       "      <td>P</td>\n",
       "      <td>Sun Mar 04 10:28:35 +0000 2018</td>\n",
       "      <td></td>\n",
       "      <td>shuri</td>\n",
       "    </tr>\n",
       "    <tr>\n",
       "      <th>2</th>\n",
       "      <td>RT @PollsNig: Ok guys get in here, who do you ...</td>\n",
       "      <td>edxxtrock</td>\n",
       "      <td>en</td>\n",
       "      <td>Toulouse, France</td>\n",
       "      <td>Sun Mar 04 10:28:35 +0000 2018</td>\n",
       "      <td></td>\n",
       "      <td>okoye</td>\n",
       "    </tr>\n",
       "    <tr>\n",
       "      <th>3</th>\n",
       "      <td>the thing is... black panther was so so good b...</td>\n",
       "      <td>zekejaegers</td>\n",
       "      <td>en</td>\n",
       "      <td>No location</td>\n",
       "      <td>Sun Mar 04 10:28:36 +0000 2018</td>\n",
       "      <td></td>\n",
       "      <td></td>\n",
       "    </tr>\n",
       "    <tr>\n",
       "      <th>4</th>\n",
       "      <td>RT @HillaryClinton: Saw Black Panther with Bil...</td>\n",
       "      <td>quirion77</td>\n",
       "      <td>en</td>\n",
       "      <td>Loire-Atlantique, Pays de la Loire</td>\n",
       "      <td>Sun Mar 04 10:28:36 +0000 2018</td>\n",
       "      <td></td>\n",
       "      <td></td>\n",
       "    </tr>\n",
       "  </tbody>\n",
       "</table>\n",
       "</div>"
      ],
      "text/plain": [
       "                                              Tweets       User_name Language  \\\n",
       "0  RT @CoachWilmore: #120: William OÕNeal and the...  SusieNattibree       en   \n",
       "1  RT @soprettyinlou: I hope my girl Shuri can br...     zinedine_7x       en   \n",
       "2  RT @PollsNig: Ok guys get in here, who do you ...       edxxtrock       en   \n",
       "3  the thing is... black panther was so so good b...     zekejaegers       en   \n",
       "4  RT @HillaryClinton: Saw Black Panther with Bil...       quirion77       en   \n",
       "\n",
       "                             Location                            Time  \\\n",
       "0                         No location  Sun Mar 04 10:28:35 +0000 2018   \n",
       "1                                   P  Sun Mar 04 10:28:35 +0000 2018   \n",
       "2                    Toulouse, France  Sun Mar 04 10:28:35 +0000 2018   \n",
       "3                         No location  Sun Mar 04 10:28:36 +0000 2018   \n",
       "4  Loire-Atlantique, Pays de la Loire  Sun Mar 04 10:28:36 +0000 2018   \n",
       "\n",
       "  Hashtags   cast  \n",
       "0     #120         \n",
       "1           shuri  \n",
       "2           okoye  \n",
       "3                  \n",
       "4                  "
      ]
     },
     "execution_count": 16,
     "metadata": {},
     "output_type": "execute_result"
    }
   ],
   "source": [
    "# Define function to replace characters names with correct spellings\n",
    "def castNames(casts):\n",
    "    replacements = [('zury','zuri'), ('zurie', 'zuri'), ('shury', 'shuri'), ('shurie', 'shuri'),('nakiya','nakia')]\n",
    "    for pat,repl in replacements:\n",
    "        casts = re.sub(pat, repl, casts)\n",
    "    return casts\n",
    "df['cast'] = df['cast'].apply(castNames)\n",
    "df.head()"
   ]
  },
  {
   "cell_type": "code",
   "execution_count": 17,
   "id": "b604f868",
   "metadata": {},
   "outputs": [],
   "source": [
    "cast_list = df['cast'].tolist()\n",
    "\n",
    "# Iterate over all cast names and split where there is more than one cast\n",
    "casts = []\n",
    "for item in cast_list:\n",
    "    item = item.split()\n",
    "    for i in item:\n",
    "        casts.append(i)\n",
    "\n",
    "# Determine Unique count of all cast\n",
    "counts = Counter(casts)\n",
    "cast_df = pd.DataFrame.from_dict(counts, orient='index').reset_index()\n",
    "cast_df.columns = ['casts', 'count']\n",
    "cast_df.sort_values(by='count', ascending=False, inplace=True)"
   ]
  },
  {
   "cell_type": "code",
   "execution_count": 18,
   "id": "d4a88ed0",
   "metadata": {},
   "outputs": [
    {
     "data": {
      "text/html": [
       "<div>\n",
       "<style scoped>\n",
       "    .dataframe tbody tr th:only-of-type {\n",
       "        vertical-align: middle;\n",
       "    }\n",
       "\n",
       "    .dataframe tbody tr th {\n",
       "        vertical-align: top;\n",
       "    }\n",
       "\n",
       "    .dataframe thead th {\n",
       "        text-align: right;\n",
       "    }\n",
       "</style>\n",
       "<table border=\"1\" class=\"dataframe\">\n",
       "  <thead>\n",
       "    <tr style=\"text-align: right;\">\n",
       "      <th></th>\n",
       "      <th>casts</th>\n",
       "      <th>count</th>\n",
       "    </tr>\n",
       "  </thead>\n",
       "  <tbody>\n",
       "    <tr>\n",
       "      <th>1</th>\n",
       "      <td>okoye</td>\n",
       "      <td>9570</td>\n",
       "    </tr>\n",
       "    <tr>\n",
       "      <th>0</th>\n",
       "      <td>shuri</td>\n",
       "      <td>1035</td>\n",
       "    </tr>\n",
       "    <tr>\n",
       "      <th>2</th>\n",
       "      <td>nakia</td>\n",
       "      <td>40</td>\n",
       "    </tr>\n",
       "    <tr>\n",
       "      <th>3</th>\n",
       "      <td>m'baku</td>\n",
       "      <td>16</td>\n",
       "    </tr>\n",
       "    <tr>\n",
       "      <th>4</th>\n",
       "      <td>ramonda</td>\n",
       "      <td>15</td>\n",
       "    </tr>\n",
       "  </tbody>\n",
       "</table>\n",
       "</div>"
      ],
      "text/plain": [
       "     casts  count\n",
       "1    okoye   9570\n",
       "0    shuri   1035\n",
       "2    nakia     40\n",
       "3   m'baku     16\n",
       "4  ramonda     15"
      ]
     },
     "execution_count": 18,
     "metadata": {},
     "output_type": "execute_result"
    }
   ],
   "source": [
    "#check for top five casts\n",
    "cast_df.head(5)"
   ]
  },
  {
   "cell_type": "code",
   "execution_count": 19,
   "id": "db9003f4",
   "metadata": {},
   "outputs": [
    {
     "name": "stderr",
     "output_type": "stream",
     "text": [
      "C:\\Users\\user\\AppData\\Local\\Temp\\ipykernel_9424\\4195187700.py:20: SettingWithCopyWarning: \n",
      "A value is trying to be set on a copy of a slice from a DataFrame.\n",
      "Try using .loc[row_indexer,col_indexer] = value instead\n",
      "\n",
      "See the caveats in the documentation: https://pandas.pydata.org/pandas-docs/stable/user_guide/indexing.html#returning-a-view-versus-a-copy\n",
      "  df['text']=df['Tweets'].apply(text_process)\n"
     ]
    }
   ],
   "source": [
    "#Cleaning tweeter data for sentiment analysis\n",
    "def text_process(tweet):\n",
    "    #Converting tweets to lowercase \n",
    "    tweet=tweet.lower()\n",
    "    #Removing emojis\n",
    "    clean(tweet, no_emoji=True)\n",
    "    #Removing URL's\n",
    "    tweet=re.sub(r\"http\\S+|www\\S+|https\\S+\",'',tweet,flags=re.MULTILINE)\n",
    "    #Removing repeating characters\n",
    "    tweet=re.sub(r'\\@\\w+|\\#\\w+|\\d+', '', tweet)\n",
    "    #Removing stopwords\n",
    "    tokens=nltk.word_tokenize(tweet)\n",
    "    filted_words=[w for w in tokens if w not in stopwords.words('english')]\n",
    "    #Removing punctuations\n",
    "    nopunc=[w for w in filted_words if w not in string.punctuation]\n",
    "    lemmatizer=WordNetLemmatizer()\n",
    "    lemma_words=[lemmatizer.lemmatize(w) for w in nopunc]\n",
    "    return \" \".join(lemma_words)\n",
    "#Applying text_process function to the data frame\n",
    "df['text']=df['Tweets'].apply(text_process)"
   ]
  },
  {
   "cell_type": "markdown",
   "id": "aca568d5",
   "metadata": {},
   "source": [
    "# 4. Sentiment Analysis"
   ]
  },
  {
   "cell_type": "code",
   "execution_count": 20,
   "id": "8c6c4e98",
   "metadata": {},
   "outputs": [
    {
     "name": "stderr",
     "output_type": "stream",
     "text": [
      "C:\\Users\\user\\AppData\\Local\\Temp\\ipykernel_9424\\3614572794.py:2: SettingWithCopyWarning: \n",
      "A value is trying to be set on a copy of a slice from a DataFrame.\n",
      "Try using .loc[row_indexer,col_indexer] = value instead\n",
      "\n",
      "See the caveats in the documentation: https://pandas.pydata.org/pandas-docs/stable/user_guide/indexing.html#returning-a-view-versus-a-copy\n",
      "  df['scores']=df['text'].apply(lambda text: analyzer.polarity_scores(text) )\n"
     ]
    }
   ],
   "source": [
    "analyzer=SentimentIntensityAnalyzer()\n",
    "df['scores']=df['text'].apply(lambda text: analyzer.polarity_scores(text) )"
   ]
  },
  {
   "cell_type": "code",
   "execution_count": 21,
   "id": "a2e519c9",
   "metadata": {},
   "outputs": [
    {
     "data": {
      "text/html": [
       "<div>\n",
       "<style scoped>\n",
       "    .dataframe tbody tr th:only-of-type {\n",
       "        vertical-align: middle;\n",
       "    }\n",
       "\n",
       "    .dataframe tbody tr th {\n",
       "        vertical-align: top;\n",
       "    }\n",
       "\n",
       "    .dataframe thead th {\n",
       "        text-align: right;\n",
       "    }\n",
       "</style>\n",
       "<table border=\"1\" class=\"dataframe\">\n",
       "  <thead>\n",
       "    <tr style=\"text-align: right;\">\n",
       "      <th></th>\n",
       "      <th>Tweets</th>\n",
       "      <th>User_name</th>\n",
       "      <th>Language</th>\n",
       "      <th>Location</th>\n",
       "      <th>Time</th>\n",
       "      <th>Hashtags</th>\n",
       "      <th>cast</th>\n",
       "      <th>text</th>\n",
       "      <th>scores</th>\n",
       "    </tr>\n",
       "  </thead>\n",
       "  <tbody>\n",
       "    <tr>\n",
       "      <th>0</th>\n",
       "      <td>RT @CoachWilmore: #120: William OÕNeal and the...</td>\n",
       "      <td>SusieNattibree</td>\n",
       "      <td>en</td>\n",
       "      <td>No location</td>\n",
       "      <td>Sun Mar 04 10:28:35 +0000 2018</td>\n",
       "      <td>#120</td>\n",
       "      <td></td>\n",
       "      <td>rt william oõneal murder fred hampton william ...</td>\n",
       "      <td>{'neg': 0.281, 'neu': 0.719, 'pos': 0.0, 'comp...</td>\n",
       "    </tr>\n",
       "    <tr>\n",
       "      <th>1</th>\n",
       "      <td>RT @soprettyinlou: I hope my girl Shuri can br...</td>\n",
       "      <td>zinedine_7x</td>\n",
       "      <td>en</td>\n",
       "      <td>P</td>\n",
       "      <td>Sun Mar 04 10:28:35 +0000 2018</td>\n",
       "      <td></td>\n",
       "      <td>shuri</td>\n",
       "      <td>rt hope girl shuri bring back erik round black...</td>\n",
       "      <td>{'neg': 0.0, 'neu': 0.756, 'pos': 0.244, 'comp...</td>\n",
       "    </tr>\n",
       "  </tbody>\n",
       "</table>\n",
       "</div>"
      ],
      "text/plain": [
       "                                              Tweets       User_name Language  \\\n",
       "0  RT @CoachWilmore: #120: William OÕNeal and the...  SusieNattibree       en   \n",
       "1  RT @soprettyinlou: I hope my girl Shuri can br...     zinedine_7x       en   \n",
       "\n",
       "      Location                            Time Hashtags   cast  \\\n",
       "0  No location  Sun Mar 04 10:28:35 +0000 2018     #120          \n",
       "1            P  Sun Mar 04 10:28:35 +0000 2018           shuri   \n",
       "\n",
       "                                                text  \\\n",
       "0  rt william oõneal murder fred hampton william ...   \n",
       "1  rt hope girl shuri bring back erik round black...   \n",
       "\n",
       "                                              scores  \n",
       "0  {'neg': 0.281, 'neu': 0.719, 'pos': 0.0, 'comp...  \n",
       "1  {'neg': 0.0, 'neu': 0.756, 'pos': 0.244, 'comp...  "
      ]
     },
     "execution_count": 21,
     "metadata": {},
     "output_type": "execute_result"
    }
   ],
   "source": [
    "df.head(2)"
   ]
  },
  {
   "cell_type": "code",
   "execution_count": 22,
   "id": "06602685",
   "metadata": {},
   "outputs": [
    {
     "name": "stderr",
     "output_type": "stream",
     "text": [
      "C:\\Users\\user\\AppData\\Local\\Temp\\ipykernel_9424\\1772667297.py:9: SettingWithCopyWarning: \n",
      "A value is trying to be set on a copy of a slice from a DataFrame.\n",
      "Try using .loc[row_indexer,col_indexer] = value instead\n",
      "\n",
      "See the caveats in the documentation: https://pandas.pydata.org/pandas-docs/stable/user_guide/indexing.html#returning-a-view-versus-a-copy\n",
      "  df['label']=df['scores'].apply(lambda x: sentimentpredict(x))\n"
     ]
    }
   ],
   "source": [
    "#identify the polarity\n",
    "def sentimentpredict(sentiment):\n",
    "    if sentiment['compound']>=0.05:\n",
    "        return \"Positive\"\n",
    "    elif sentiment['compound']<=-0.05: \n",
    "        return \"Negative\"\n",
    "    else:\n",
    "        return \"Neutral\"\n",
    "df['label']=df['scores'].apply(lambda x: sentimentpredict(x))"
   ]
  },
  {
   "cell_type": "code",
   "execution_count": 23,
   "id": "60c3ccaa",
   "metadata": {},
   "outputs": [
    {
     "data": {
      "text/html": [
       "<div>\n",
       "<style scoped>\n",
       "    .dataframe tbody tr th:only-of-type {\n",
       "        vertical-align: middle;\n",
       "    }\n",
       "\n",
       "    .dataframe tbody tr th {\n",
       "        vertical-align: top;\n",
       "    }\n",
       "\n",
       "    .dataframe thead th {\n",
       "        text-align: right;\n",
       "    }\n",
       "</style>\n",
       "<table border=\"1\" class=\"dataframe\">\n",
       "  <thead>\n",
       "    <tr style=\"text-align: right;\">\n",
       "      <th></th>\n",
       "      <th>Tweets</th>\n",
       "      <th>User_name</th>\n",
       "      <th>Language</th>\n",
       "      <th>Location</th>\n",
       "      <th>Time</th>\n",
       "      <th>Hashtags</th>\n",
       "      <th>cast</th>\n",
       "      <th>text</th>\n",
       "      <th>scores</th>\n",
       "      <th>label</th>\n",
       "    </tr>\n",
       "  </thead>\n",
       "  <tbody>\n",
       "    <tr>\n",
       "      <th>0</th>\n",
       "      <td>RT @CoachWilmore: #120: William OÕNeal and the...</td>\n",
       "      <td>SusieNattibree</td>\n",
       "      <td>en</td>\n",
       "      <td>No location</td>\n",
       "      <td>Sun Mar 04 10:28:35 +0000 2018</td>\n",
       "      <td>#120</td>\n",
       "      <td></td>\n",
       "      <td>rt william oõneal murder fred hampton william ...</td>\n",
       "      <td>{'neg': 0.281, 'neu': 0.719, 'pos': 0.0, 'comp...</td>\n",
       "      <td>Negative</td>\n",
       "    </tr>\n",
       "    <tr>\n",
       "      <th>1</th>\n",
       "      <td>RT @soprettyinlou: I hope my girl Shuri can br...</td>\n",
       "      <td>zinedine_7x</td>\n",
       "      <td>en</td>\n",
       "      <td>P</td>\n",
       "      <td>Sun Mar 04 10:28:35 +0000 2018</td>\n",
       "      <td></td>\n",
       "      <td>shuri</td>\n",
       "      <td>rt hope girl shuri bring back erik round black...</td>\n",
       "      <td>{'neg': 0.0, 'neu': 0.756, 'pos': 0.244, 'comp...</td>\n",
       "      <td>Positive</td>\n",
       "    </tr>\n",
       "    <tr>\n",
       "      <th>2</th>\n",
       "      <td>RT @PollsNig: Ok guys get in here, who do you ...</td>\n",
       "      <td>edxxtrock</td>\n",
       "      <td>en</td>\n",
       "      <td>Toulouse, France</td>\n",
       "      <td>Sun Mar 04 10:28:35 +0000 2018</td>\n",
       "      <td></td>\n",
       "      <td>okoye</td>\n",
       "      <td>rt ok guy get think would win battle okoye bla...</td>\n",
       "      <td>{'neg': 0.126, 'neu': 0.583, 'pos': 0.291, 'co...</td>\n",
       "      <td>Positive</td>\n",
       "    </tr>\n",
       "    <tr>\n",
       "      <th>3</th>\n",
       "      <td>the thing is... black panther was so so good b...</td>\n",
       "      <td>zekejaegers</td>\n",
       "      <td>en</td>\n",
       "      <td>No location</td>\n",
       "      <td>Sun Mar 04 10:28:36 +0000 2018</td>\n",
       "      <td></td>\n",
       "      <td></td>\n",
       "      <td>thing ... black panther good session late woke...</td>\n",
       "      <td>{'neg': 0.0, 'neu': 0.775, 'pos': 0.225, 'comp...</td>\n",
       "      <td>Positive</td>\n",
       "    </tr>\n",
       "    <tr>\n",
       "      <th>4</th>\n",
       "      <td>RT @HillaryClinton: Saw Black Panther with Bil...</td>\n",
       "      <td>quirion77</td>\n",
       "      <td>en</td>\n",
       "      <td>Loire-Atlantique, Pays de la Loire</td>\n",
       "      <td>Sun Mar 04 10:28:36 +0000 2018</td>\n",
       "      <td></td>\n",
       "      <td></td>\n",
       "      <td>rt saw black panther bill afternoon amp loved ...</td>\n",
       "      <td>{'neg': 0.0, 'neu': 0.522, 'pos': 0.478, 'comp...</td>\n",
       "      <td>Positive</td>\n",
       "    </tr>\n",
       "  </tbody>\n",
       "</table>\n",
       "</div>"
      ],
      "text/plain": [
       "                                              Tweets       User_name Language  \\\n",
       "0  RT @CoachWilmore: #120: William OÕNeal and the...  SusieNattibree       en   \n",
       "1  RT @soprettyinlou: I hope my girl Shuri can br...     zinedine_7x       en   \n",
       "2  RT @PollsNig: Ok guys get in here, who do you ...       edxxtrock       en   \n",
       "3  the thing is... black panther was so so good b...     zekejaegers       en   \n",
       "4  RT @HillaryClinton: Saw Black Panther with Bil...       quirion77       en   \n",
       "\n",
       "                             Location                            Time  \\\n",
       "0                         No location  Sun Mar 04 10:28:35 +0000 2018   \n",
       "1                                   P  Sun Mar 04 10:28:35 +0000 2018   \n",
       "2                    Toulouse, France  Sun Mar 04 10:28:35 +0000 2018   \n",
       "3                         No location  Sun Mar 04 10:28:36 +0000 2018   \n",
       "4  Loire-Atlantique, Pays de la Loire  Sun Mar 04 10:28:36 +0000 2018   \n",
       "\n",
       "  Hashtags   cast                                               text  \\\n",
       "0     #120         rt william oõneal murder fred hampton william ...   \n",
       "1           shuri  rt hope girl shuri bring back erik round black...   \n",
       "2           okoye  rt ok guy get think would win battle okoye bla...   \n",
       "3                  thing ... black panther good session late woke...   \n",
       "4                  rt saw black panther bill afternoon amp loved ...   \n",
       "\n",
       "                                              scores     label  \n",
       "0  {'neg': 0.281, 'neu': 0.719, 'pos': 0.0, 'comp...  Negative  \n",
       "1  {'neg': 0.0, 'neu': 0.756, 'pos': 0.244, 'comp...  Positive  \n",
       "2  {'neg': 0.126, 'neu': 0.583, 'pos': 0.291, 'co...  Positive  \n",
       "3  {'neg': 0.0, 'neu': 0.775, 'pos': 0.225, 'comp...  Positive  \n",
       "4  {'neg': 0.0, 'neu': 0.522, 'pos': 0.478, 'comp...  Positive  "
      ]
     },
     "execution_count": 23,
     "metadata": {},
     "output_type": "execute_result"
    }
   ],
   "source": [
    "df.head(5)"
   ]
  },
  {
   "cell_type": "code",
   "execution_count": 24,
   "id": "c1d773e1",
   "metadata": {},
   "outputs": [
    {
     "name": "stderr",
     "output_type": "stream",
     "text": [
      "C:\\Users\\user\\AppData\\Local\\Temp\\ipykernel_9424\\3676947008.py:1: SettingWithCopyWarning: \n",
      "A value is trying to be set on a copy of a slice from a DataFrame.\n",
      "Try using .loc[row_indexer,col_indexer] = value instead\n",
      "\n",
      "See the caveats in the documentation: https://pandas.pydata.org/pandas-docs/stable/user_guide/indexing.html#returning-a-view-versus-a-copy\n",
      "  df['Country']=df['Location'].apply(lambda x: x.split(',')[-1])\n"
     ]
    }
   ],
   "source": [
    "df['Country']=df['Location'].apply(lambda x: x.split(',')[-1])"
   ]
  },
  {
   "cell_type": "code",
   "execution_count": 28,
   "id": "2ea55950",
   "metadata": {},
   "outputs": [
    {
     "name": "stderr",
     "output_type": "stream",
     "text": [
      "C:\\Users\\user\\AppData\\Local\\Temp\\ipykernel_9424\\3040091849.py:1: SettingWithCopyWarning: \n",
      "A value is trying to be set on a copy of a slice from a DataFrame\n",
      "\n",
      "See the caveats in the documentation: https://pandas.pydata.org/pandas-docs/stable/user_guide/indexing.html#returning-a-view-versus-a-copy\n",
      "  df.dropna(subset=['cast'],axis=0,inplace=True)\n"
     ]
    }
   ],
   "source": [
    "df.dropna(subset=['cast'],axis=0,inplace=True)"
   ]
  },
  {
   "cell_type": "code",
   "execution_count": 29,
   "id": "58145abb",
   "metadata": {},
   "outputs": [
    {
     "data": {
      "text/html": [
       "<div>\n",
       "<style scoped>\n",
       "    .dataframe tbody tr th:only-of-type {\n",
       "        vertical-align: middle;\n",
       "    }\n",
       "\n",
       "    .dataframe tbody tr th {\n",
       "        vertical-align: top;\n",
       "    }\n",
       "\n",
       "    .dataframe thead th {\n",
       "        text-align: right;\n",
       "    }\n",
       "</style>\n",
       "<table border=\"1\" class=\"dataframe\">\n",
       "  <thead>\n",
       "    <tr style=\"text-align: right;\">\n",
       "      <th></th>\n",
       "      <th>Tweets</th>\n",
       "      <th>User_name</th>\n",
       "      <th>Language</th>\n",
       "      <th>Location</th>\n",
       "      <th>Time</th>\n",
       "      <th>Hashtags</th>\n",
       "      <th>cast</th>\n",
       "      <th>text</th>\n",
       "      <th>scores</th>\n",
       "      <th>label</th>\n",
       "      <th>Country</th>\n",
       "    </tr>\n",
       "  </thead>\n",
       "  <tbody>\n",
       "    <tr>\n",
       "      <th>count</th>\n",
       "      <td>49298</td>\n",
       "      <td>49298</td>\n",
       "      <td>49298</td>\n",
       "      <td>49298</td>\n",
       "      <td>49298</td>\n",
       "      <td>49298</td>\n",
       "      <td>49298</td>\n",
       "      <td>49298</td>\n",
       "      <td>49298</td>\n",
       "      <td>49298</td>\n",
       "      <td>49298</td>\n",
       "    </tr>\n",
       "    <tr>\n",
       "      <th>unique</th>\n",
       "      <td>15369</td>\n",
       "      <td>44118</td>\n",
       "      <td>1</td>\n",
       "      <td>17476</td>\n",
       "      <td>16693</td>\n",
       "      <td>1020</td>\n",
       "      <td>20</td>\n",
       "      <td>13511</td>\n",
       "      <td>3837</td>\n",
       "      <td>3</td>\n",
       "      <td>14009</td>\n",
       "    </tr>\n",
       "    <tr>\n",
       "      <th>top</th>\n",
       "      <td>RT @Fatnando: Okoye was about to kill her man ...</td>\n",
       "      <td>MarvelCmcs_Newz</td>\n",
       "      <td>en</td>\n",
       "      <td>No location</td>\n",
       "      <td>Sun Mar 04 18:43:10 +0000 2018</td>\n",
       "      <td></td>\n",
       "      <td></td>\n",
       "      <td>rt okoye kill man name wakanda think sheõll th...</td>\n",
       "      <td>{'neg': 0.0, 'neu': 1.0, 'pos': 0.0, 'compound...</td>\n",
       "      <td>Positive</td>\n",
       "      <td>No location</td>\n",
       "    </tr>\n",
       "    <tr>\n",
       "      <th>freq</th>\n",
       "      <td>7430</td>\n",
       "      <td>37</td>\n",
       "      <td>49298</td>\n",
       "      <td>14301</td>\n",
       "      <td>47</td>\n",
       "      <td>45043</td>\n",
       "      <td>38672</td>\n",
       "      <td>7431</td>\n",
       "      <td>14603</td>\n",
       "      <td>20843</td>\n",
       "      <td>14301</td>\n",
       "    </tr>\n",
       "  </tbody>\n",
       "</table>\n",
       "</div>"
      ],
      "text/plain": [
       "                                                   Tweets        User_name  \\\n",
       "count                                               49298            49298   \n",
       "unique                                              15369            44118   \n",
       "top     RT @Fatnando: Okoye was about to kill her man ...  MarvelCmcs_Newz   \n",
       "freq                                                 7430               37   \n",
       "\n",
       "       Language     Location                            Time Hashtags   cast  \\\n",
       "count     49298        49298                           49298    49298  49298   \n",
       "unique        1        17476                           16693     1020     20   \n",
       "top          en  No location  Sun Mar 04 18:43:10 +0000 2018                   \n",
       "freq      49298        14301                              47    45043  38672   \n",
       "\n",
       "                                                     text  \\\n",
       "count                                               49298   \n",
       "unique                                              13511   \n",
       "top     rt okoye kill man name wakanda think sheõll th...   \n",
       "freq                                                 7431   \n",
       "\n",
       "                                                   scores     label  \\\n",
       "count                                               49298     49298   \n",
       "unique                                               3837         3   \n",
       "top     {'neg': 0.0, 'neu': 1.0, 'pos': 0.0, 'compound...  Positive   \n",
       "freq                                                14603     20843   \n",
       "\n",
       "            Country  \n",
       "count         49298  \n",
       "unique        14009  \n",
       "top     No location  \n",
       "freq          14301  "
      ]
     },
     "execution_count": 29,
     "metadata": {},
     "output_type": "execute_result"
    }
   ],
   "source": [
    "df.describe()"
   ]
  },
  {
   "cell_type": "code",
   "execution_count": 30,
   "id": "3b802cc0",
   "metadata": {},
   "outputs": [],
   "source": [
    "df.to_csv('final_file_updated.csv',index=False)"
   ]
  },
  {
   "cell_type": "markdown",
   "id": "64311aca",
   "metadata": {},
   "source": [
    "# Conclusion"
   ]
  },
  {
   "cell_type": "markdown",
   "id": "d32b99e1",
   "metadata": {},
   "source": [
    "I exported the data to power bi for furthur cleaning and visualisation "
   ]
  },
  {
   "cell_type": "code",
   "execution_count": null,
   "id": "62ed0554",
   "metadata": {},
   "outputs": [],
   "source": []
  }
 ],
 "metadata": {
  "kernelspec": {
   "display_name": "Python 3 (ipykernel)",
   "language": "python",
   "name": "python3"
  },
  "language_info": {
   "codemirror_mode": {
    "name": "ipython",
    "version": 3
   },
   "file_extension": ".py",
   "mimetype": "text/x-python",
   "name": "python",
   "nbconvert_exporter": "python",
   "pygments_lexer": "ipython3",
   "version": "3.10.0"
  }
 },
 "nbformat": 4,
 "nbformat_minor": 5
}
